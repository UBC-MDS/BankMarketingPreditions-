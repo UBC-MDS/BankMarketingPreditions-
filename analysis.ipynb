{
 "cells": [
  {
   "cell_type": "markdown",
   "id": "c01082bd-6e32-447a-85da-de406315b622",
   "metadata": {},
   "source": [
    "# Bank Marketing Analysis"
   ]
  },
  {
   "cell_type": "markdown",
   "id": "3bceecc3-6f6e-4134-a944-461302725bda",
   "metadata": {},
   "source": [
    "by Rong Wan, Hala Arar & Fazeeia 2024/11/21"
   ]
  },
  {
   "cell_type": "code",
   "execution_count": 3,
   "id": "01648fe3-1355-4e30-8a6c-b20ba1ff0158",
   "metadata": {},
   "outputs": [],
   "source": [
    "import altair as alt\n",
    "import numpy as np\n",
    "import pandas as pd"
   ]
  },
  {
   "cell_type": "markdown",
   "id": "f3b0970e-3f66-4e8c-9b09-d4afdc1c2b79",
   "metadata": {},
   "source": [
    "# Summary"
   ]
  },
  {
   "cell_type": "code",
   "execution_count": null,
   "id": "1afff777-2bad-4cc1-bbad-2f7f1f97d3a3",
   "metadata": {},
   "outputs": [],
   "source": []
  },
  {
   "cell_type": "markdown",
   "id": "96dfc8f2-776d-4c9b-a4cd-03e65b44c181",
   "metadata": {},
   "source": [
    "# Introduction"
   ]
  },
  {
   "cell_type": "code",
   "execution_count": null,
   "id": "54a8ea68-d77d-4426-891e-4aae2caa851f",
   "metadata": {},
   "outputs": [],
   "source": []
  },
  {
   "cell_type": "markdown",
   "id": "68eddbef-dc57-415e-9d40-d8ac80bb9908",
   "metadata": {},
   "source": [
    "# Methods"
   ]
  },
  {
   "cell_type": "markdown",
   "id": "d419c660-4a09-4723-bfe5-33f3ee5d668d",
   "metadata": {},
   "source": [
    "### Data"
   ]
  },
  {
   "cell_type": "code",
   "execution_count": null,
   "id": "0b6b451a-8d66-49b0-b24d-c566b2d57c37",
   "metadata": {},
   "outputs": [],
   "source": []
  },
  {
   "cell_type": "markdown",
   "id": "760c4450-98c7-47c7-8275-721d6501501a",
   "metadata": {},
   "source": [
    "### Analysis"
   ]
  },
  {
   "cell_type": "code",
   "execution_count": null,
   "id": "bb44db59-7ac2-4119-8efc-6b78d404aa9c",
   "metadata": {},
   "outputs": [],
   "source": []
  },
  {
   "cell_type": "code",
   "execution_count": null,
   "id": "5fec5eca-c061-4da4-acb9-a41a55648ae5",
   "metadata": {},
   "outputs": [],
   "source": []
  },
  {
   "cell_type": "markdown",
   "id": "eda4d9b1-ed14-4180-a050-730518e416e3",
   "metadata": {},
   "source": [
    "### Analysis"
   ]
  },
  {
   "cell_type": "code",
   "execution_count": null,
   "id": "97a4361b-1edf-4643-97cc-65df9c72310b",
   "metadata": {},
   "outputs": [],
   "source": []
  },
  {
   "cell_type": "markdown",
   "id": "b530cdfa-c44b-4cb6-9f9e-2c71d308a073",
   "metadata": {},
   "source": [
    "## Results & Discussion"
   ]
  },
  {
   "cell_type": "code",
   "execution_count": null,
   "id": "8005b33b-b96a-4bef-96b0-1f322cf94f70",
   "metadata": {},
   "outputs": [],
   "source": [
    "## read data\n",
    "## validate data\n",
    "## visualization"
   ]
  },
  {
   "cell_type": "code",
   "execution_count": null,
   "id": "d6f23f23-1ea8-4f5d-8ac3-985b7c996b3a",
   "metadata": {},
   "outputs": [],
   "source": [
    "## modelling"
   ]
  },
  {
   "cell_type": "code",
   "execution_count": null,
   "id": "6e32d3c8-32ca-4221-ba72-14db121f32a9",
   "metadata": {},
   "outputs": [],
   "source": [
    "## evaluation of model"
   ]
  },
  {
   "cell_type": "code",
   "execution_count": null,
   "id": "bc86169d-244b-455b-b72c-d5f8a5056c05",
   "metadata": {},
   "outputs": [],
   "source": []
  },
  {
   "cell_type": "code",
   "execution_count": null,
   "id": "f12124e8-586f-4abc-a6d1-bf3086515af8",
   "metadata": {},
   "outputs": [],
   "source": []
  },
  {
   "cell_type": "markdown",
   "id": "03f4953e-41d9-4608-9179-71ab7ecf9a73",
   "metadata": {},
   "source": [
    "# References"
   ]
  },
  {
   "cell_type": "code",
   "execution_count": null,
   "id": "108ebaae-b1cc-4bb6-82d2-10c274f3b96a",
   "metadata": {},
   "outputs": [],
   "source": []
  },
  {
   "cell_type": "code",
   "execution_count": null,
   "id": "328d62a7-0128-4f72-a2a6-4e6e1456c106",
   "metadata": {},
   "outputs": [],
   "source": []
  },
  {
   "cell_type": "code",
   "execution_count": null,
   "id": "4ac38c9f-2f4a-493e-988b-b6258ddd6a50",
   "metadata": {},
   "outputs": [],
   "source": []
  },
  {
   "cell_type": "code",
   "execution_count": null,
   "id": "ee8d2ea2-86c0-488f-99b2-a97d4c64ff1c",
   "metadata": {},
   "outputs": [],
   "source": []
  }
 ],
 "metadata": {
  "kernelspec": {
   "display_name": "Python 3 (ipykernel)",
   "language": "python",
   "name": "python3"
  },
  "language_info": {
   "codemirror_mode": {
    "name": "ipython",
    "version": 3
   },
   "file_extension": ".py",
   "mimetype": "text/x-python",
   "name": "python",
   "nbconvert_exporter": "python",
   "pygments_lexer": "ipython3",
   "version": "3.11.9"
  }
 },
 "nbformat": 4,
 "nbformat_minor": 5
}
